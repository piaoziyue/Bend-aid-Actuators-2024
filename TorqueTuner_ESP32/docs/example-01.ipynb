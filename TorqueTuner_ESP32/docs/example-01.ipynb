{
 "cells": [
  {
   "cell_type": "code",
   "execution_count": null,
   "metadata": {
    "collapsed": true
   },
   "outputs": [],
   "source": [
    "from visual_midi import Plotter\n",
    "from visual_midi import Preset\n",
    "from pretty_midi import PrettyMIDI"
   ]
  },
  {
   "cell_type": "markdown",
   "source": [
    "Use the `Preset` object to customize the appearance (height, width, colors, etc.) of the plot, and the `Plotter` object to change the render view (number of bars to show, pitch range, etc.). The resulting plot still has all its bars (in this example, 16 bars), but the plot is \"zoomed in\" to the desired number of bars (int this example, 8 bas). You can still drag and zoom the plot."
   ],
   "metadata": {
    "collapsed": false
   }
  },
  {
   "cell_type": "code",
   "execution_count": null,
   "outputs": [],
   "source": [
    "preset = Preset(plot_width=850)\n",
    "plotter = Plotter(preset, plot_max_length_bar=4)\n",
    "pm = PrettyMIDI(\"example-01.mid\")\n",
    "plotter.show_notebook(pm)"
   ],
   "metadata": {
    "collapsed": false,
    "pycharm": {
     "name": "#%%\n"
    }
   }
  }
 ],
 "metadata": {
  "kernelspec": {
   "display_name": "Python 3",
   "language": "python",
   "name": "python3"
  },
  "language_info": {
   "codemirror_mode": {
    "name": "ipython",
    "version": 2
   },
   "file_extension": ".py",
   "mimetype": "text/x-python",
   "name": "python",
   "nbconvert_exporter": "python",
   "pygments_lexer": "ipython2",
   "version": "2.7.6"
  }
 },
 "nbformat": 4,
 "nbformat_minor": 0
}